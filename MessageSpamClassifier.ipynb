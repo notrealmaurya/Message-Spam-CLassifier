{
 "cells": [
  {
   "cell_type": "markdown",
   "id": "af27f39b-569a-47aa-9b42-c95dec98c9ab",
   "metadata": {},
   "source": [
    ">Importing"
   ]
  },
  {
   "cell_type": "code",
   "execution_count": 6,
   "id": "daae6d44-f6c3-4df6-aac4-1665f523fe9b",
   "metadata": {},
   "outputs": [],
   "source": [
    "import pandas as pd\n",
    "import numpy as np"
   ]
  },
  {
   "cell_type": "code",
   "execution_count": 18,
   "id": "291e6434-3a2e-4f05-9f7d-384194c0ec8f",
   "metadata": {
    "scrolled": true
   },
   "outputs": [],
   "source": [
    "dataSet1 = pd.read_csv('spam.csv', encoding='ISO-8859-1')"
   ]
  },
  {
   "cell_type": "code",
   "execution_count": 13,
   "id": "c3e3d982-fa3f-4a75-9b46-cc0b82db57cd",
   "metadata": {},
   "outputs": [
    {
     "data": {
      "text/html": [
       "<div>\n",
       "<style scoped>\n",
       "    .dataframe tbody tr th:only-of-type {\n",
       "        vertical-align: middle;\n",
       "    }\n",
       "\n",
       "    .dataframe tbody tr th {\n",
       "        vertical-align: top;\n",
       "    }\n",
       "\n",
       "    .dataframe thead th {\n",
       "        text-align: right;\n",
       "    }\n",
       "</style>\n",
       "<table border=\"1\" class=\"dataframe\">\n",
       "  <thead>\n",
       "    <tr style=\"text-align: right;\">\n",
       "      <th></th>\n",
       "      <th>v1</th>\n",
       "      <th>v2</th>\n",
       "      <th>Unnamed: 2</th>\n",
       "      <th>Unnamed: 3</th>\n",
       "      <th>Unnamed: 4</th>\n",
       "    </tr>\n",
       "  </thead>\n",
       "  <tbody>\n",
       "    <tr>\n",
       "      <th>441</th>\n",
       "      <td>ham</td>\n",
       "      <td>You were supposed to wake ME up &amp;gt;:(</td>\n",
       "      <td>NaN</td>\n",
       "      <td>NaN</td>\n",
       "      <td>NaN</td>\n",
       "    </tr>\n",
       "    <tr>\n",
       "      <th>590</th>\n",
       "      <td>spam</td>\n",
       "      <td>For ur chance to win a å£250 wkly shopping spr...</td>\n",
       "      <td>NaN</td>\n",
       "      <td>NaN</td>\n",
       "      <td>NaN</td>\n",
       "    </tr>\n",
       "    <tr>\n",
       "      <th>1632</th>\n",
       "      <td>ham</td>\n",
       "      <td>Hello my little party animal! I just thought I...</td>\n",
       "      <td>NaN</td>\n",
       "      <td>NaN</td>\n",
       "      <td>NaN</td>\n",
       "    </tr>\n",
       "    <tr>\n",
       "      <th>1467</th>\n",
       "      <td>ham</td>\n",
       "      <td>I wont touch you with out your permission.</td>\n",
       "      <td>NaN</td>\n",
       "      <td>NaN</td>\n",
       "      <td>NaN</td>\n",
       "    </tr>\n",
       "    <tr>\n",
       "      <th>4042</th>\n",
       "      <td>ham</td>\n",
       "      <td>I am literally in bed and have been up for lik...</td>\n",
       "      <td>NaN</td>\n",
       "      <td>NaN</td>\n",
       "      <td>NaN</td>\n",
       "    </tr>\n",
       "  </tbody>\n",
       "</table>\n",
       "</div>"
      ],
      "text/plain": [
       "        v1                                                 v2 Unnamed: 2  \\\n",
       "441    ham             You were supposed to wake ME up &gt;:(        NaN   \n",
       "590   spam  For ur chance to win a å£250 wkly shopping spr...        NaN   \n",
       "1632   ham  Hello my little party animal! I just thought I...        NaN   \n",
       "1467   ham         I wont touch you with out your permission.        NaN   \n",
       "4042   ham  I am literally in bed and have been up for lik...        NaN   \n",
       "\n",
       "     Unnamed: 3 Unnamed: 4  \n",
       "441         NaN        NaN  \n",
       "590         NaN        NaN  \n",
       "1632        NaN        NaN  \n",
       "1467        NaN        NaN  \n",
       "4042        NaN        NaN  "
      ]
     },
     "execution_count": 13,
     "metadata": {},
     "output_type": "execute_result"
    }
   ],
   "source": [
    "df.sample(5)"
   ]
  },
  {
   "cell_type": "code",
   "execution_count": 20,
   "id": "e13c9456-a20b-4792-880e-dad45a423f22",
   "metadata": {},
   "outputs": [
    {
     "data": {
      "text/plain": [
       "(5572, 5)"
      ]
     },
     "execution_count": 20,
     "metadata": {},
     "output_type": "execute_result"
    }
   ],
   "source": [
    "df.shape"
   ]
  },
  {
   "cell_type": "code",
   "execution_count": null,
   "id": "69959514-8b93-45c3-a05f-181ad39cd2b3",
   "metadata": {},
   "outputs": [],
   "source": []
  }
 ],
 "metadata": {
  "kernelspec": {
   "display_name": "Python 3 (ipykernel)",
   "language": "python",
   "name": "python3"
  },
  "language_info": {
   "codemirror_mode": {
    "name": "ipython",
    "version": 3
   },
   "file_extension": ".py",
   "mimetype": "text/x-python",
   "name": "python",
   "nbconvert_exporter": "python",
   "pygments_lexer": "ipython3",
   "version": "3.11.4"
  }
 },
 "nbformat": 4,
 "nbformat_minor": 5
}
